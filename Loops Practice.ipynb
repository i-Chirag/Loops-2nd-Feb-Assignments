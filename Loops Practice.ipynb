{
 "cells": [
  {
   "cell_type": "code",
   "execution_count": 1,
   "id": "4e5dbd30-2917-435f-a11a-16b5c92b1bc7",
   "metadata": {},
   "outputs": [],
   "source": [
    "#Explain with an example each when to use a for loop and a while loop."
   ]
  },
  {
   "cell_type": "code",
   "execution_count": 2,
   "id": "db459460-99de-4954-be37-18f35d0f4261",
   "metadata": {},
   "outputs": [],
   "source": [
    "#In for Loop statement will execute first, once the statement is executed then only increment and decrement will happen"
   ]
  },
  {
   "cell_type": "code",
   "execution_count": 3,
   "id": "d4565889-8c70-408f-9091-41b6c6d512cc",
   "metadata": {},
   "outputs": [],
   "source": [
    "#where as in while loop increment and dercrement will happen first then statement will be exected"
   ]
  },
  {
   "cell_type": "code",
   "execution_count": 4,
   "id": "12e11424-2089-476a-a6a6-810cf0f80340",
   "metadata": {},
   "outputs": [],
   "source": [
    "#We use For Loop when we know the number of iterations that will happen in code, But in While loop we do not know the number of iterations that \n",
    "#will going to be happen"
   ]
  },
  {
   "cell_type": "code",
   "execution_count": 5,
   "id": "b128325b-a2bd-4e53-bbd4-8404bc3704c8",
   "metadata": {},
   "outputs": [],
   "source": [
    "#We use for loop when we know the number of iterations that will going to happen"
   ]
  },
  {
   "cell_type": "code",
   "execution_count": 12,
   "id": "4e862c4b-734f-4992-95d8-dd01f5f42b3b",
   "metadata": {},
   "outputs": [
    {
     "name": "stdout",
     "output_type": "stream",
     "text": [
      "2\n",
      "6\n",
      "8\n",
      "10\n",
      "12\n",
      "14\n"
     ]
    }
   ],
   "source": [
    "\"\"\"Use of For Loop to print even numbers in list\"\"\"\n",
    "l=[1,2,3,5,6,7,8,9,10,11,12,13,14]\n",
    "for i in l:\n",
    "    if i%2==0:\n",
    "        print(i)"
   ]
  },
  {
   "cell_type": "code",
   "execution_count": 13,
   "id": "c5f4ae42-ef64-4a15-97b6-75f619503601",
   "metadata": {},
   "outputs": [
    {
     "name": "stdout",
     "output_type": "stream",
     "text": [
      "2\n",
      "4\n",
      "6\n",
      "8\n",
      "10\n",
      "12\n",
      "14\n",
      "16\n",
      "18\n",
      "20\n"
     ]
    }
   ],
   "source": [
    "\"\"\"Use of while Loop to print Even Numbers Between 1 to 10\"\"\"\n",
    "l = 2\n",
    "while l<=20:\n",
    "    print(l)\n",
    "    l=l+2"
   ]
  },
  {
   "cell_type": "code",
   "execution_count": 15,
   "id": "f864a399-5b6f-4c9c-83df-f93fe89a0cd8",
   "metadata": {},
   "outputs": [],
   "source": [
    "### Write a python program to print the sum and product of the first 10 natural numbers using for Loop"
   ]
  },
  {
   "cell_type": "code",
   "execution_count": 1,
   "id": "c2c2f95e-2f44-4e87-981c-70d5e53acee5",
   "metadata": {},
   "outputs": [
    {
     "name": "stdout",
     "output_type": "stream",
     "text": [
      "The Sum of First 10 Natural Numbers are  55\n",
      "The Product of First 10 Natural Numbers are  3628800\n"
     ]
    }
   ],
   "source": [
    "sum = 0\n",
    "product = 1\n",
    "for i in range(1,11):\n",
    "    sum +=i\n",
    "    product *= i\n",
    "print(\"The Sum of First 10 Natural Numbers are \", sum)\n",
    "print(\"The Product of First 10 Natural Numbers are \", product)"
   ]
  },
  {
   "cell_type": "code",
   "execution_count": 2,
   "id": "846da08f-ca6c-48d7-9a36-89f79abcfb14",
   "metadata": {},
   "outputs": [],
   "source": [
    "### Write a python program to print the sum and product of the first 10 natural numbers using while Loop"
   ]
  },
  {
   "cell_type": "code",
   "execution_count": 7,
   "id": "1c4c39d2-9bca-43ac-b792-f64eab62a68b",
   "metadata": {},
   "outputs": [
    {
     "name": "stdout",
     "output_type": "stream",
     "text": [
      "The Sum of First 10 Natural Numbers are  55\n",
      "The Product of First 10 Natural Numbera are  3628800\n"
     ]
    }
   ],
   "source": [
    "sum = 0\n",
    "product = 1\n",
    "i=1\n",
    "while i <= 10:\n",
    "    sum += i\n",
    "    product *= i\n",
    "    i += 1\n",
    "print(\"The Sum of First 10 Natural Numbers are \", sum)\n",
    "print(\"The Product of First 10 Natural Numbera are \", product)"
   ]
  },
  {
   "cell_type": "code",
   "execution_count": 8,
   "id": "a66e0c66-1279-4e82-8352-a49a6afcb790",
   "metadata": {},
   "outputs": [],
   "source": [
    "#Create a python program to compute the electricity bill for a household.\n",
    "#100 units charges = Rs.4.5\n",
    "#200 units charges = Rs. 6\n",
    "#300 units charges = Rs. 10\n",
    "#300+ units charges =Rs. 20"
   ]
  },
  {
   "cell_type": "code",
   "execution_count": 24,
   "id": "38402ade-eee4-4dca-b17e-eaf970e76b48",
   "metadata": {},
   "outputs": [
    {
     "name": "stdin",
     "output_type": "stream",
     "text": [
      "Enter Your Units to calculate the Bill:  310\n"
     ]
    },
    {
     "name": "stdout",
     "output_type": "stream",
     "text": [
      "Your Electricty bill is:  2250.0\n"
     ]
    }
   ],
   "source": [
    "unit = int(input(\"Enter Your Units to calculate the Bill: \"))\n",
    "if(unit >0 and unit <=100):\n",
    "    payment = unit*4.5\n",
    "elif(unit >= 100 and unit <=200):\n",
    "    payment = (100*4.5) + (unit - 100) * 6\n",
    "elif(unit >= 200 and unit <=300):\n",
    "    payment = (100 *4.5) + (200 - 100)*6 + (unit - 200)* 10\n",
    "else:\n",
    "    payment = (100 *4.5) + (200 - 100)*6 + (300 - 200)*10 + (unit-300)*20\n",
    "print(\"Your Electricty bill is: \",payment)"
   ]
  },
  {
   "cell_type": "code",
   "execution_count": 25,
   "id": "df7d4444-8033-4130-a8a7-5cc7a7f2a40b",
   "metadata": {},
   "outputs": [],
   "source": [
    "#Q4. Create a list of numbers from 1 to 100. Use for loop to calculate the cube of each\n",
    "#number and if the cube of that number is divisible by 4 or 5 then append that number in a list and print\n",
    "#that list."
   ]
  },
  {
   "cell_type": "code",
   "execution_count": null,
   "id": "f933b16c-91ee-4570-be2a-46b79d00be92",
   "metadata": {},
   "outputs": [],
   "source": [
    "l = []\n",
    "for i in range(1,101):\n",
    "    cube = i ** 3\n",
    "    if cube %4==0 or cube %5==0:\n",
    "        l.append(i)\n",
    "print(l)"
   ]
  },
  {
   "cell_type": "code",
   "execution_count": null,
   "id": "2fafe581-cccd-4b63-ae6a-0cb05aa96412",
   "metadata": {},
   "outputs": [],
   "source": [
    "#Q4. Create a list of numbers from 1 to 100. Use while loop to calculate the cube of each\n",
    "#number and if the cube of that number is divisible by 4 or 5 then append that number in a list and print\n",
    "#that list."
   ]
  },
  {
   "cell_type": "code",
   "execution_count": 3,
   "id": "44ce3955-8523-442e-ab33-58fbe33445c8",
   "metadata": {},
   "outputs": [
    {
     "name": "stdout",
     "output_type": "stream",
     "text": [
      "[2, 4, 5, 6, 8, 10, 12, 14, 15, 16, 18, 20, 22, 24, 25, 26, 28, 30, 32, 34, 35, 36, 38, 40, 42, 44, 45, 46, 48, 50, 52, 54, 55, 56, 58, 60, 62, 64, 65, 66, 68, 70, 72, 74, 75, 76, 78, 80, 82, 84, 85, 86, 88, 90, 92, 94, 95, 96, 98, 100]\n"
     ]
    }
   ],
   "source": [
    "l1=[]\n",
    "i = 1\n",
    "while i<=100:\n",
    "    cube = i**3\n",
    "    if cube %4 ==0 or cube %5==0:\n",
    "        l1.append(i)\n",
    "    i=i+1\n",
    "print(l1)"
   ]
  },
  {
   "cell_type": "code",
   "execution_count": 1,
   "id": "455a632d-ad64-4504-ba0c-571dc6cdb2fb",
   "metadata": {},
   "outputs": [],
   "source": [
    "#Write a program to filter count vowels in the below-given string.\n",
    "#string = \"I want to become a data scientist\""
   ]
  },
  {
   "cell_type": "code",
   "execution_count": 2,
   "id": "48d58125-abda-43b9-a9e6-20f5113fea65",
   "metadata": {},
   "outputs": [
    {
     "name": "stdout",
     "output_type": "stream",
     "text": [
      "String is  I want to become a data scientist\n",
      "Strings without vowels are:   wnt t bcm  dt scntst\n"
     ]
    }
   ],
   "source": [
    "s=\"I want to become a data scientist\"\n",
    "vowels =\"aeiouAEIOU\"\n",
    "print(\"String is \",s)\n",
    "for char in s:\n",
    "    if char in vowels:\n",
    "        s = s.replace(char,\"\")\n",
    "        \n",
    "print(\"Strings without vowels are: \",s)\n",
    "        \n",
    "    "
   ]
  },
  {
   "cell_type": "code",
   "execution_count": null,
   "id": "77e59fae-5b4f-4183-b85a-ff51c432b798",
   "metadata": {},
   "outputs": [],
   "source": []
  }
 ],
 "metadata": {
  "kernelspec": {
   "display_name": "Python 3 (ipykernel)",
   "language": "python",
   "name": "python3"
  },
  "language_info": {
   "codemirror_mode": {
    "name": "ipython",
    "version": 3
   },
   "file_extension": ".py",
   "mimetype": "text/x-python",
   "name": "python",
   "nbconvert_exporter": "python",
   "pygments_lexer": "ipython3",
   "version": "3.10.8"
  }
 },
 "nbformat": 4,
 "nbformat_minor": 5
}
